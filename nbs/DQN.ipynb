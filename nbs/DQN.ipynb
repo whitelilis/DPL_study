{
 "cells": [
  {
   "cell_type": "code",
   "execution_count": 6,
   "metadata": {
    "collapsed": true
   },
   "outputs": [
    {
     "data": {
      "text/html": "\n            <div id=\"IibLYQ\"></div>\n            <script type=\"text/javascript\" data-lets-plot-script=\"library\">\n                if(!window.letsPlotCallQueue) {\n                    window.letsPlotCallQueue = [];\n                }; \n                window.letsPlotCall = function(f) {\n                    window.letsPlotCallQueue.push(f);\n                };\n                (function() {\n                    var script = document.createElement(\"script\");\n                    script.type = \"text/javascript\";\n                    script.src = \"https://cdn.jsdelivr.net/gh/JetBrains/lets-plot@v2.1.0/js-package/distr/lets-plot.min.js\";\n                    script.onload = function() {\n                        window.letsPlotCall = function(f) {f();};\n                        window.letsPlotCallQueue.forEach(function(f) {f();});\n                        window.letsPlotCallQueue = [];\n                        \n                    };\n                    script.onerror = function(event) {\n                        window.letsPlotCall = function(f) {};    // noop\n                        window.letsPlotCallQueue = [];\n                        var div = document.createElement(\"div\");\n                        div.style.color = 'darkred';\n                        div.textContent = 'Error loading Lets-Plot JS';\n                        document.getElementById(\"IibLYQ\").appendChild(div);\n                    };\n                    var e = document.getElementById(\"IibLYQ\");\n                    e.appendChild(script);\n                })()\n            </script>\n            "
     },
     "metadata": {},
     "output_type": "display_data"
    },
    {
     "data": {
      "text/plain": "            day      time      rb\n0      20200203  09:00:00  3233.0\n1      20200203  09:00:01  3233.0\n2      20200203  09:00:02  3233.0\n3      20200203  09:00:03  3233.0\n4      20200203  09:00:04  3233.0\n...         ...       ...     ...\n17064  20200203  15:14:35    -1.0\n17065  20200203  15:14:36    -1.0\n17066  20200203  15:14:37    -1.0\n17067  20200203  15:14:38    -1.0\n17068  20200203  15:14:39    -1.0\n\n[17069 rows x 3 columns]",
      "text/html": "<div>\n<style scoped>\n    .dataframe tbody tr th:only-of-type {\n        vertical-align: middle;\n    }\n\n    .dataframe tbody tr th {\n        vertical-align: top;\n    }\n\n    .dataframe thead th {\n        text-align: right;\n    }\n</style>\n<table border=\"1\" class=\"dataframe\">\n  <thead>\n    <tr style=\"text-align: right;\">\n      <th></th>\n      <th>day</th>\n      <th>time</th>\n      <th>rb</th>\n    </tr>\n  </thead>\n  <tbody>\n    <tr>\n      <th>0</th>\n      <td>20200203</td>\n      <td>09:00:00</td>\n      <td>3233.0</td>\n    </tr>\n    <tr>\n      <th>1</th>\n      <td>20200203</td>\n      <td>09:00:01</td>\n      <td>3233.0</td>\n    </tr>\n    <tr>\n      <th>2</th>\n      <td>20200203</td>\n      <td>09:00:02</td>\n      <td>3233.0</td>\n    </tr>\n    <tr>\n      <th>3</th>\n      <td>20200203</td>\n      <td>09:00:03</td>\n      <td>3233.0</td>\n    </tr>\n    <tr>\n      <th>4</th>\n      <td>20200203</td>\n      <td>09:00:04</td>\n      <td>3233.0</td>\n    </tr>\n    <tr>\n      <th>...</th>\n      <td>...</td>\n      <td>...</td>\n      <td>...</td>\n    </tr>\n    <tr>\n      <th>17064</th>\n      <td>20200203</td>\n      <td>15:14:35</td>\n      <td>-1.0</td>\n    </tr>\n    <tr>\n      <th>17065</th>\n      <td>20200203</td>\n      <td>15:14:36</td>\n      <td>-1.0</td>\n    </tr>\n    <tr>\n      <th>17066</th>\n      <td>20200203</td>\n      <td>15:14:37</td>\n      <td>-1.0</td>\n    </tr>\n    <tr>\n      <th>17067</th>\n      <td>20200203</td>\n      <td>15:14:38</td>\n      <td>-1.0</td>\n    </tr>\n    <tr>\n      <th>17068</th>\n      <td>20200203</td>\n      <td>15:14:39</td>\n      <td>-1.0</td>\n    </tr>\n  </tbody>\n</table>\n<p>17069 rows × 3 columns</p>\n</div>"
     },
     "execution_count": 6,
     "metadata": {},
     "output_type": "execute_result"
    }
   ],
   "source": [
    "import pandas\n",
    "import torch\n",
    "\n",
    "from lets_plot import *\n",
    "\n",
    "LetsPlot().setup_html()\n",
    "\n",
    "import pandas as pd\n",
    "import numpy as np\n",
    "\n",
    "min_data = pd.read_csv('../data/snap.csv')\n",
    "\n",
    "min_data.head()\n",
    "\n",
    "rb = min_data[['day', 'time', 'rb']]\n",
    "\n",
    "rb"
   ]
  },
  {
   "cell_type": "code",
   "execution_count": 11,
   "outputs": [],
   "source": [
    "use = rb[rb.rb > 0]"
   ],
   "metadata": {
    "collapsed": false,
    "pycharm": {
     "name": "#%%\n"
    }
   }
  },
  {
   "cell_type": "code",
   "execution_count": 14,
   "outputs": [
    {
     "data": {
      "text/plain": "            day      time      rb\n0      20200203  09:00:00  3233.0\n1      20200203  09:00:01  3233.0\n2      20200203  09:00:02  3233.0\n3      20200203  09:00:03  3233.0\n4      20200203  09:00:04  3233.0\n16206  20200203  14:59:55  3233.0\n16207  20200203  14:59:56  3233.0\n16208  20200203  14:59:57  3233.0\n16209  20200203  14:59:58  3233.0\n16210  20200203  14:59:59  3233.0",
      "text/html": "<div>\n<style scoped>\n    .dataframe tbody tr th:only-of-type {\n        vertical-align: middle;\n    }\n\n    .dataframe tbody tr th {\n        vertical-align: top;\n    }\n\n    .dataframe thead th {\n        text-align: right;\n    }\n</style>\n<table border=\"1\" class=\"dataframe\">\n  <thead>\n    <tr style=\"text-align: right;\">\n      <th></th>\n      <th>day</th>\n      <th>time</th>\n      <th>rb</th>\n    </tr>\n  </thead>\n  <tbody>\n    <tr>\n      <th>0</th>\n      <td>20200203</td>\n      <td>09:00:00</td>\n      <td>3233.0</td>\n    </tr>\n    <tr>\n      <th>1</th>\n      <td>20200203</td>\n      <td>09:00:01</td>\n      <td>3233.0</td>\n    </tr>\n    <tr>\n      <th>2</th>\n      <td>20200203</td>\n      <td>09:00:02</td>\n      <td>3233.0</td>\n    </tr>\n    <tr>\n      <th>3</th>\n      <td>20200203</td>\n      <td>09:00:03</td>\n      <td>3233.0</td>\n    </tr>\n    <tr>\n      <th>4</th>\n      <td>20200203</td>\n      <td>09:00:04</td>\n      <td>3233.0</td>\n    </tr>\n    <tr>\n      <th>16206</th>\n      <td>20200203</td>\n      <td>14:59:55</td>\n      <td>3233.0</td>\n    </tr>\n    <tr>\n      <th>16207</th>\n      <td>20200203</td>\n      <td>14:59:56</td>\n      <td>3233.0</td>\n    </tr>\n    <tr>\n      <th>16208</th>\n      <td>20200203</td>\n      <td>14:59:57</td>\n      <td>3233.0</td>\n    </tr>\n    <tr>\n      <th>16209</th>\n      <td>20200203</td>\n      <td>14:59:58</td>\n      <td>3233.0</td>\n    </tr>\n    <tr>\n      <th>16210</th>\n      <td>20200203</td>\n      <td>14:59:59</td>\n      <td>3233.0</td>\n    </tr>\n  </tbody>\n</table>\n</div>"
     },
     "execution_count": 14,
     "metadata": {},
     "output_type": "execute_result"
    }
   ],
   "source": [
    "use.head().append(use.tail())\n"
   ],
   "metadata": {
    "collapsed": false,
    "pycharm": {
     "name": "#%%\n"
    }
   }
  },
  {
   "cell_type": "code",
   "execution_count": 16,
   "outputs": [
    {
     "data": {
      "text/plain": "<AxesSubplot:>"
     },
     "execution_count": 16,
     "metadata": {},
     "output_type": "execute_result"
    },
    {
     "data": {
      "text/plain": "<Figure size 432x288 with 1 Axes>",
      "image/png": "[encoded data removed]"
     },
     "metadata": {
      "needs_background": "light"
     },
     "output_type": "display_data"
    }
   ],
   "source": [
    "use.rb.plot()"
   ],
   "metadata": {
    "collapsed": false,
    "pycharm": {
     "name": "#%%\n"
    }
   }
  },
  {
   "cell_type": "code",
   "execution_count": 16,
   "outputs": [
    {
     "data": {
      "text/plain": "[0.30000001192092896,\n 0.30000001192092896,\n 0.30000001192092896,\n 0.10000000149011612]"
     },
     "execution_count": 16,
     "metadata": {},
     "output_type": "execute_result"
    }
   ],
   "source": [
    "import torch\n",
    "a = torch.tensor([0.3, 0.3, 0.3, 0.1])\n",
    "a.tolist()\n"
   ],
   "metadata": {
    "collapsed": false,
    "pycharm": {
     "name": "#%%\n"
    }
   }
  }
 ],
 "metadata": {
  "kernelspec": {
   "name": "python396jvsc74a57bd0b083a35c829d90d7cf4bf5a162f9b5913befed75f21b4e95e09572b3db361c53",
   "language": "python",
   "display_name": "Python 3.9.6 64-bit ('torch_env': conda)"
  },
  "language_info": {
   "codemirror_mode": {
    "name": "ipython",
    "version": 2
   },
   "file_extension": ".py",
   "mimetype": "text/x-python",
   "name": "python",
   "nbconvert_exporter": "python",
   "pygments_lexer": "ipython2",
   "version": "2.7.6"
  }
 },
 "nbformat": 4,
 "nbformat_minor": 0
}