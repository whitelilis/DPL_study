{
 "cells": [
  {
   "cell_type": "code",
   "execution_count": 1,
   "metadata": {
    "collapsed": true
   },
   "outputs": [
    {
     "name": "stdout",
     "output_type": "stream",
     "text": [
      "timeline: 31, net: 200810.0, cash: 199990, profile: 820.0, direction: 1, in_price: 6894.0, now_price: 6976.0\n",
      "got here 2\n"
     ]
    }
   ],
   "source": [
    "import sys\n",
    "import os\n",
    "\n",
    "import torch\n",
    "\n",
    "sys.path.append(os.path.abspath(\"/Users/liuzhe/github/DPL_study/pys\"))\n",
    "from single_env_from_csv import *\n"
   ]
  },
  {
   "cell_type": "code",
   "execution_count": 2,
   "outputs": [],
   "source": [
    "#e = SingleEnv('/Users/liuzhe/github/DPL_study/data/snap.csv', 'rb')\n",
    "one_long = torch.tensor([1, 0, 0, 0])\n",
    "one_short = torch.tensor([0, 1, 0, 0])\n",
    "one_close = torch.tensor([0, 0, 1, 0])\n",
    "one_hold = torch.tensor([0, 0, 0, 1])\n",
    "\n",
    "\n",
    "\n"
   ],
   "metadata": {
    "collapsed": false,
    "pycharm": {
     "name": "#%%\n"
    }
   }
  },
  {
   "cell_type": "code",
   "execution_count": 3,
   "outputs": [
    {
     "name": "stdout",
     "output_type": "stream",
     "text": [
      "timeline: 31, net: 200810.0, cash: 199990, profile: 820.0, direction: 1, in_price: 6894.0, now_price: 6976.0\n"
     ]
    },
    {
     "data": {
      "text/plain": "            day      time   price\n0      20200203  09:00:00  6895.0\n1      20200203  09:00:01  6894.0\n2      20200203  09:00:02  6886.0\n3      20200203  09:00:03  6894.0\n4      20200203  09:00:04  6888.0\n...         ...       ...     ...\n17064  20200203  15:14:35    -1.0\n17065  20200203  15:14:36    -1.0\n17066  20200203  15:14:37    -1.0\n17067  20200203  15:14:38    -1.0\n17068  20200203  15:14:39    -1.0\n\n[17069 rows x 3 columns]",
      "text/html": "<div>\n<style scoped>\n    .dataframe tbody tr th:only-of-type {\n        vertical-align: middle;\n    }\n\n    .dataframe tbody tr th {\n        vertical-align: top;\n    }\n\n    .dataframe thead th {\n        text-align: right;\n    }\n</style>\n<table border=\"1\" class=\"dataframe\">\n  <thead>\n    <tr style=\"text-align: right;\">\n      <th></th>\n      <th>day</th>\n      <th>time</th>\n      <th>price</th>\n    </tr>\n  </thead>\n  <tbody>\n    <tr>\n      <th>0</th>\n      <td>20200203</td>\n      <td>09:00:00</td>\n      <td>6895.0</td>\n    </tr>\n    <tr>\n      <th>1</th>\n      <td>20200203</td>\n      <td>09:00:01</td>\n      <td>6894.0</td>\n    </tr>\n    <tr>\n      <th>2</th>\n      <td>20200203</td>\n      <td>09:00:02</td>\n      <td>6886.0</td>\n    </tr>\n    <tr>\n      <th>3</th>\n      <td>20200203</td>\n      <td>09:00:03</td>\n      <td>6894.0</td>\n    </tr>\n    <tr>\n      <th>4</th>\n      <td>20200203</td>\n      <td>09:00:04</td>\n      <td>6888.0</td>\n    </tr>\n    <tr>\n      <th>...</th>\n      <td>...</td>\n      <td>...</td>\n      <td>...</td>\n    </tr>\n    <tr>\n      <th>17064</th>\n      <td>20200203</td>\n      <td>15:14:35</td>\n      <td>-1.0</td>\n    </tr>\n    <tr>\n      <th>17065</th>\n      <td>20200203</td>\n      <td>15:14:36</td>\n      <td>-1.0</td>\n    </tr>\n    <tr>\n      <th>17066</th>\n      <td>20200203</td>\n      <td>15:14:37</td>\n      <td>-1.0</td>\n    </tr>\n    <tr>\n      <th>17067</th>\n      <td>20200203</td>\n      <td>15:14:38</td>\n      <td>-1.0</td>\n    </tr>\n    <tr>\n      <th>17068</th>\n      <td>20200203</td>\n      <td>15:14:39</td>\n      <td>-1.0</td>\n    </tr>\n  </tbody>\n</table>\n<p>17069 rows × 3 columns</p>\n</div>"
     },
     "execution_count": 3,
     "metadata": {},
     "output_type": "execute_result"
    }
   ],
   "source": [
    "e.render()\n",
    "e.data"
   ],
   "metadata": {
    "collapsed": false,
    "pycharm": {
     "name": "#%%\n"
    }
   }
  },
  {
   "cell_type": "code",
   "execution_count": 4,
   "outputs": [
    {
     "name": "stderr",
     "output_type": "stream",
     "text": [
      "[W NNPACK.cpp:79] Could not initialize NNPACK! Reason: Unsupported hardware.\n"
     ]
    },
    {
     "data": {
      "text/plain": "tensor([[[194.5166, 194.1873]]], grad_fn=<SqueezeBackward1>)"
     },
     "execution_count": 4,
     "metadata": {},
     "output_type": "execute_result"
    }
   ],
   "source": [
    "import torch\n",
    "import torch.nn.functional as F\n",
    "d1 = torch.nn.Linear(100, 50) # y = A(100x50) * x + b,\n",
    "input = torch.rand(140, 100)\n",
    "out = d1(input)\n",
    "out.shape\n",
    "\n",
    "\n",
    "d2 = torch.nn.Linear(4, 5)\n",
    "input_matrix = torch.tensor([[1.0, 0.0, 0.0, 0.0]])\n",
    "F.relu(d2(input_matrix))\n",
    "\n",
    "d3 = torch.nn.Conv1d(4, 1, 3)\n",
    "\n",
    "time_input = torch.tensor([[\n",
    "    [323.0, 324.0, 323.0, 325.0,], # tick\n",
    "    [310.0, 310.0, 310.0, 311.0,], # min\n",
    "    [300.0, 300.0, 300.0, 300.0],  # hour\n",
    "    [300.0, 300.0, 300.0, 300.0],  # hour\n",
    "]])\n",
    "\n",
    "d4 = torch.nn.Conv2d(4, 1, 3)\n",
    "\n",
    "d3(time_input)\n"
   ],
   "metadata": {
    "collapsed": false,
    "pycharm": {
     "name": "#%%\n"
    }
   }
  },
  {
   "cell_type": "code",
   "execution_count": 86,
   "outputs": [
    {
     "data": {
      "text/plain": "tensor([[[-3.0948e-01,  1.0656e+00,  3.9142e-01, -2.1842e-01, -4.5702e-01],\n         [-8.1276e-01,  1.7447e-01,  5.0249e-01, -3.5413e-01,  3.5017e-02],\n         [ 6.3394e-02,  1.1194e+00, -8.6499e-01,  7.7794e-01, -9.7448e-01],\n         [-2.5633e-01,  1.0592e+00,  4.3715e-01,  1.2339e-01,  4.6911e-02],\n         [-2.2362e+00, -2.6185e-01,  5.4983e-01, -9.0113e-02,  1.0959e+00],\n         [-3.6545e-01, -2.1616e+00, -1.2328e+00, -5.0122e-01,  6.8461e-01],\n         [ 3.3591e-01,  8.4470e-01, -1.1091e-01,  6.9038e-01, -2.8962e-01],\n         [ 4.4338e-01,  8.1973e-01, -3.2848e-01, -1.3372e+00,  1.1463e+00],\n         [ 2.8764e-01, -1.4550e-01, -3.8360e-01,  9.4777e-01,  1.1928e+00],\n         [ 9.7568e-01,  2.8647e-01, -4.3111e-01, -1.4688e+00, -1.0558e+00],\n         [-2.9751e-01, -8.6467e-02, -1.6863e+00,  1.8837e-01, -1.2697e+00],\n         [ 3.7945e-01, -1.1042e+00, -3.8351e-02,  2.5243e-01, -3.9608e-01],\n         [ 3.8342e-02,  2.5415e+00,  2.1143e-01, -2.7910e-01, -1.7841e-01],\n         [ 8.8621e-01, -2.3613e-01,  1.1356e+00, -7.5815e-01,  5.8642e-01],\n         [ 6.8121e-01, -1.1185e+00, -1.6257e-01, -2.4863e-02,  1.4393e-01],\n         [-8.6910e-01,  2.2506e+00,  1.8332e+00,  4.2683e-01, -1.0313e+00],\n         [-1.6709e+00, -6.6473e-01,  1.2926e+00, -1.0639e+00, -8.6686e-01],\n         [ 1.6168e+00,  1.7946e-01, -3.2335e-01,  1.3389e-01, -2.3271e-01],\n         [-1.1648e-01, -2.2473e-01,  2.7380e-01, -1.8094e+00,  5.9401e-01],\n         [-1.1169e+00, -5.8179e-01, -3.3501e-01, -2.8243e-01,  2.9945e-01]],\n\n        [[ 1.7828e-01, -5.8213e-01, -7.1911e-01,  6.1555e-01,  6.9624e-01],\n         [-4.1775e-01, -5.1762e-01, -5.0657e-01, -1.8067e+00, -4.6852e-01],\n         [-3.3631e-01, -7.8400e-01, -2.2089e-01, -7.1014e-01, -4.3612e-01],\n         [ 2.4094e-01, -3.3370e-01,  1.5015e+00, -2.7172e-01,  1.4489e+00],\n         [-1.0414e+00,  4.6373e-01,  4.1151e-01, -1.2686e-01,  2.6428e-01],\n         [ 7.4209e-01,  3.7574e-01, -4.0730e-01,  7.4999e-01, -4.0814e-01],\n         [ 2.7092e-01, -5.0585e-01, -5.1348e-01, -2.0248e+00, -3.2068e-02],\n         [ 6.8542e-01,  1.3793e-01,  1.1371e+00, -3.4411e-01, -6.5039e-01],\n         [-2.0116e+00,  1.3770e+00,  1.3452e+00,  1.2229e+00, -1.9200e-01],\n         [-6.4129e-01, -2.2678e+00, -2.4061e-01, -1.0246e-01, -7.6740e-01],\n         [-2.2456e-01, -9.4112e-01, -4.4578e-01,  1.2294e+00, -2.7223e+00],\n         [ 2.7987e-01,  8.3319e-01, -3.5111e-01,  8.8904e-01,  2.1889e+00],\n         [ 6.0882e-01,  7.6908e-01,  6.3819e-01, -3.2691e-01,  6.5825e-01],\n         [-6.5389e-01, -4.9388e-01, -1.1647e+00,  1.4799e+00,  7.2558e-01],\n         [ 1.4411e+00,  9.7649e-01, -4.1058e-01, -2.0317e-01, -1.2524e+00],\n         [-7.8642e-01,  1.0483e+00,  1.5330e+00, -3.6683e-01,  1.4851e+00],\n         [ 8.5576e-01, -8.2505e-01,  1.9183e+00, -1.0828e+00, -1.0222e+00],\n         [-6.2996e-01,  9.5368e-01,  3.9868e-01, -8.4606e-01, -9.6040e-01],\n         [ 2.2232e+00, -6.2243e-01, -9.3223e-01,  8.7634e-01, -8.1677e-01],\n         [-1.4472e-01,  5.4886e-01,  9.2215e-01, -1.5483e-01, -1.1788e+00]],\n\n        [[-1.5470e+00, -1.1692e-01,  3.0969e-01,  5.1745e-01,  1.6555e+00],\n         [-8.3124e-01, -9.7381e-02, -1.4869e+00, -1.2140e+00, -1.0587e+00],\n         [ 5.4062e-01, -8.9883e-01, -4.6729e-01,  6.0332e-02, -1.2329e+00],\n         [ 2.5637e+00, -5.3261e-01,  1.9187e+00,  1.4213e-01, -4.5362e-01],\n         [-1.8711e+00, -6.3516e-01, -1.9376e+00,  1.0516e+00,  4.4983e-01],\n         [-1.4058e+00,  1.9988e+00,  1.5979e+00,  9.2557e-01, -1.0548e+00],\n         [-5.7374e-01,  8.7435e-01, -1.4984e+00,  1.3593e-01, -2.0963e-01],\n         [-8.9619e-01,  3.1383e-01, -1.1194e+00, -1.2017e+00, -5.9975e-01],\n         [ 1.0399e+00,  1.6262e+00, -4.7880e-02, -4.0274e-01,  9.2365e-02],\n         [-4.1553e-01,  6.1164e-01,  6.6751e-01, -7.0212e-03,  8.5188e-01],\n         [-1.0596e-01, -1.6070e-01, -1.5992e+00,  2.1057e+00, -6.7799e-01],\n         [-9.4651e-01, -2.9743e-02,  4.6894e-01,  6.0814e-01, -4.3862e-01],\n         [ 1.4882e+00,  2.3916e-01,  8.3586e-01,  9.0731e-01,  1.1149e+00],\n         [ 1.2775e-01, -1.5593e-01,  1.5109e+00,  4.9809e-01, -7.8175e-01],\n         [-8.9763e-02, -3.7380e-01, -2.6151e-01,  1.4162e+00, -8.4467e-02],\n         [-1.1762e-01,  1.7703e+00,  1.1250e-01, -1.0896e-03, -5.1755e-02],\n         [ 9.3632e-01, -3.8659e-01,  8.2508e-01, -3.7281e-01, -1.5706e+00],\n         [ 5.2844e-01,  5.5724e-01,  7.7022e-01, -1.2070e+00,  4.5821e-01],\n         [-1.6630e+00,  1.8316e-01,  2.5226e-01, -5.0033e-01,  5.8906e-01],\n         [ 4.0279e-01,  1.0538e+00, -1.8700e+00,  1.2237e-01,  1.6272e+00]],\n\n        [[-1.3532e+00, -7.9273e-01, -6.7051e-01,  4.2578e-01,  9.1086e-01],\n         [-1.0158e+00, -6.2362e-01,  1.2275e-01,  1.6214e-01, -1.1851e+00],\n         [-8.5199e-01,  5.0475e-02,  1.1247e+00,  8.6245e-01, -9.8764e-01],\n         [ 2.6421e-01, -5.0024e-01, -4.7164e-01,  7.0020e-02,  2.1291e-01],\n         [-8.8417e-01,  9.8287e-01, -1.6285e+00, -2.2805e+00,  1.8427e+00],\n         [-6.3647e-01, -1.2876e+00, -6.4599e-01,  2.0326e-01,  2.2341e-01],\n         [ 2.5872e-01,  5.0557e-02,  7.5686e-01, -3.9293e-01, -3.3967e-01],\n         [ 8.4098e-01, -3.0083e-01,  1.2795e+00,  2.2351e+00,  1.3380e+00],\n         [ 9.3873e-01, -1.3592e+00,  1.7578e+00, -1.6249e+00, -7.3775e-01],\n         [-1.2790e+00, -7.3119e-02,  1.7649e+00,  6.2750e-01, -1.6714e+00],\n         [ 1.4798e+00,  3.3402e-01,  6.2900e-01, -7.1411e-02,  1.1809e+00],\n         [-8.1254e-01,  5.7068e-01,  1.2500e+00,  1.1387e+00, -1.0396e+00],\n         [-8.0420e-01,  7.5429e-01,  1.2737e+00, -2.9969e-01, -1.1834e+00],\n         [ 2.5242e-01,  6.5126e-01, -1.8254e+00,  1.7879e+00, -3.8887e-02],\n         [-2.7188e-01,  1.2897e+00, -1.1792e+00,  1.6366e+00, -1.7701e+00],\n         [ 4.5466e-01, -1.2156e+00,  1.3835e+00,  2.5665e-01,  1.3794e+00],\n         [ 2.5000e+00, -8.3971e-01, -7.9688e-01, -3.3538e-01, -1.0185e+00],\n         [-4.0788e-01,  7.1112e-01,  4.2181e-01,  6.7828e-01,  1.3251e+00],\n         [ 1.2744e-01, -3.3693e+00, -1.3424e-01, -2.9221e-01,  3.5894e-01],\n         [-7.9657e-01,  4.7523e-01,  1.6946e+00, -2.1053e+00,  2.5531e+00]],\n\n        [[ 2.3919e-01, -3.9783e-02, -9.1889e-01,  7.5311e-01, -4.5009e-01],\n         [ 1.1790e+00, -9.2862e-01,  2.6258e-01,  1.7136e+00, -9.2127e-01],\n         [ 3.8490e-01, -3.2529e-01,  2.6018e-01,  7.5313e-01, -1.1057e+00],\n         [ 3.4175e-01, -1.9389e-01, -5.4214e-01, -1.9837e-01,  1.4393e+00],\n         [ 1.2435e+00,  2.5174e+00, -8.7201e-01,  1.3745e-01, -5.8357e-01],\n         [ 8.7216e-01,  6.8423e-01,  7.2284e-01, -3.3724e-01,  1.8293e+00],\n         [ 5.6927e-01,  8.1867e-01, -1.0405e+00, -2.4962e+00, -5.9747e-01],\n         [ 4.1437e-01, -7.9750e-01, -1.0849e+00,  3.9263e-01,  1.0697e+00],\n         [ 2.6186e-01, -5.6943e-01,  2.3110e+00, -2.3479e+00,  4.3415e-01],\n         [ 9.9678e-01, -1.3552e+00, -5.5584e-01, -6.4966e-01,  8.8065e-01],\n         [ 1.1736e-01,  1.1617e+00,  2.4931e-01,  1.7448e-01, -2.8178e-01],\n         [-3.2449e-01,  8.8900e-01,  4.2095e-01,  1.4601e-01, -5.0188e-01],\n         [-7.0380e-01,  6.1519e-01, -2.7101e-01, -8.9952e-02, -2.4103e-01],\n         [-1.1609e+00,  8.9860e-01, -7.2769e-01,  5.2398e-02,  3.9938e-01],\n         [-5.2715e-01, -6.4520e-01, -9.7958e-01, -1.3875e-01,  6.1132e-01],\n         [ 8.0539e-01,  1.2221e+00,  9.9236e-01, -1.5886e+00,  4.7312e-01],\n         [ 1.1460e+00, -7.0523e-01, -2.6183e-01,  4.3499e-01,  7.2259e-01],\n         [-5.6124e-01,  1.4198e+00,  9.0846e-01, -2.4147e-01, -1.8707e+00],\n         [-4.0542e-01,  4.2702e-01,  1.2586e-03,  1.9946e+00, -5.6327e-01],\n         [ 8.9492e-01,  4.8153e-01,  1.0890e-01,  1.3274e-01, -1.7102e-02]],\n\n        [[-6.4581e-01,  7.7766e-01,  5.1792e-01, -5.5436e-01,  1.2723e+00],\n         [ 4.3078e-01, -3.9995e-01, -1.2915e+00, -1.0556e+00, -3.8174e-01],\n         [ 9.6823e-01, -3.7492e-01, -3.3676e-01, -4.3132e-01, -2.3111e+00],\n         [-5.3079e-01, -9.2336e-01, -3.7276e-01, -6.7161e-01, -1.2746e+00],\n         [-1.8754e-01,  1.0955e+00, -1.9167e-01, -2.4092e-01,  6.5391e-01],\n         [-8.3970e-01,  7.3229e-01,  1.0921e+00, -1.6837e+00, -5.9832e-01],\n         [-3.6063e-01, -2.2723e+00,  2.6437e-01,  1.6078e+00,  2.6466e+00],\n         [-1.1362e+00,  1.0062e+00, -2.8555e-01,  3.7012e-01,  3.5506e-01],\n         [ 9.3011e-02,  3.0577e-01,  2.5024e-01,  6.1246e-01,  9.6736e-01],\n         [ 3.4575e-01,  7.2009e-01,  5.4907e-01,  9.3485e-01, -1.4569e+00],\n         [ 3.1651e-01,  8.2768e-01, -6.6215e-01, -1.4437e+00, -5.2277e-01],\n         [ 2.3284e-02, -6.0897e-01,  4.4269e-01, -1.1162e+00, -3.5396e-01],\n         [-3.6937e-01, -7.7450e-01,  5.2049e-01, -1.5751e+00, -1.1472e+00],\n         [-8.4288e-01,  7.4910e-01,  4.7754e-02, -4.2459e-01, -1.4821e-01],\n         [ 6.7823e-01, -7.1487e-01,  7.2109e-01, -9.7599e-02,  1.6444e-01],\n         [-2.4788e-02,  2.6018e-01,  1.3987e+00,  8.7347e-01,  4.2415e-01],\n         [ 9.2951e-01, -4.2611e-01,  2.9117e+00,  1.3966e+00,  1.2563e+00],\n         [ 4.6379e-01,  1.2891e+00, -2.0121e+00,  3.4422e+00,  4.0084e-01],\n         [ 8.5568e-01,  2.1176e+00,  1.3221e+00,  6.5694e-02, -3.3851e-01],\n         [ 6.1468e-01,  3.5459e-01, -1.1605e+00, -1.0089e+00, -4.5058e-01]]])"
     },
     "execution_count": 86,
     "metadata": {},
     "output_type": "execute_result"
    }
   ],
   "source": [
    "metric_num = len(['o', 'h', 'l', 'c', 'v_delta',])\n",
    "step_num = 20\n",
    "time_scales = len(['tick', 'min', '5min', '15min', 'hour', 'day'])\n",
    "action_count = len(['b1', 's1', 'h', 'c'])\n",
    "\n",
    "fake_tick = torch.randn((time_scales, step_num, metric_num)) #\n",
    "fake_tick\n",
    "\n"
   ],
   "metadata": {
    "collapsed": false,
    "pycharm": {
     "name": "#%%\n"
    }
   }
  },
  {
   "cell_type": "code",
   "execution_count": 16,
   "outputs": [
    {
     "data": {
      "text/plain": "torch.Size([6, 10, 2])"
     },
     "execution_count": 16,
     "metadata": {},
     "output_type": "execute_result"
    }
   ],
   "source": [
    "conv_out_rows = 10\n",
    "\n",
    "mod = torch.nn.Sequential(\n",
    "    torch.nn.Conv1d(step_num, conv_out_rows, 4),\n",
    "    torch.nn.Flatten(end_dim=1)\n",
    ")\n",
    "out = mod(fake_tick)\n",
    "out.size()"
   ],
   "metadata": {
    "collapsed": false,
    "pycharm": {
     "name": "#%%\n"
    }
   }
  },
  {
   "cell_type": "code",
   "execution_count": 58,
   "outputs": [
    {
     "data": {
      "text/plain": "torch.Size([432])"
     },
     "execution_count": 58,
     "metadata": {},
     "output_type": "execute_result"
    }
   ],
   "source": [
    "out.reshape(-1).size()\n",
    "\n",
    "fake_tick.size()\n",
    "t1 = torch.nn.Conv2d(time_scales, 9, (5, 3))\n",
    "t1(fake_tick.unsqueeze(0)).view(-1).size()\n"
   ],
   "metadata": {
    "collapsed": false,
    "pycharm": {
     "name": "#%%\n"
    }
   }
  },
  {
   "cell_type": "code",
   "execution_count": 87,
   "outputs": [
    {
     "name": "stderr",
     "output_type": "stream",
     "text": [
      "/var/folders/zp/br0t0rj942x005pnp5ghxfy40000gn/T/ipykernel_90388/2052592867.py:26: UserWarning: Implicit dimension choice for softmax has been deprecated. Change the call to include dim=X as an argument.\n",
      "  return torch.nn.functional.softmax(lin_out)\n"
     ]
    },
    {
     "data": {
      "text/plain": "tensor([0.2513, 0.2474, 0.2508, 0.2505], grad_fn=<SoftmaxBackward>)"
     },
     "execution_count": 87,
     "metadata": {},
     "output_type": "execute_result"
    }
   ],
   "source": [
    "kernel_h = 5 # segment_range\n",
    "kernel_w = 3 # metric_kinds\n",
    "\n",
    "cons = torch.nn.Sequential(\n",
    "    torch.nn.Conv2d(time_scales, time_scales, (kernel_h, kernel_w), padding=1),\n",
    "    torch.nn.ReLU(),\n",
    "    torch.nn.Conv2d(time_scales, time_scales, (kernel_h, kernel_w), padding=1),\n",
    "    torch.nn.ReLU(),\n",
    "    torch.nn.Conv2d(time_scales, time_scales, (kernel_h, kernel_w), padding=1),\n",
    "    torch.nn.ReLU()\n",
    ")\n",
    "\n",
    "cons(fake_tick.unsqueeze(0)).size()\n",
    "#fake_tick.unsqueeze(0).size()\n",
    "in_w = len(cons(fake_tick.unsqueeze(0)).view(-1))\n",
    "\n",
    "lins = torch.nn.Sequential(\n",
    "    torch.nn.Linear(in_w, in_w),\n",
    "    torch.nn.Linear(in_w, in_w),\n",
    "    torch.nn.Linear(in_w, action_count),\n",
    ")\n",
    "\n",
    "def forward(x):\n",
    "    con_out = cons(x.unsqueeze(0))\n",
    "    lin_out = lins(con_out.view(-1))\n",
    "    #return torch.nn.functional.softmax(lin_out)\n",
    "    return lin_out\n",
    "\n",
    "forward(fake_tick)"
   ],
   "metadata": {
    "collapsed": false,
    "pycharm": {
     "name": "#%%\n"
    }
   }
  }
 ],
 "metadata": {
  "kernelspec": {
   "name": "python396jvsc74a57bd0b083a35c829d90d7cf4bf5a162f9b5913befed75f21b4e95e09572b3db361c53",
   "language": "python",
   "display_name": "Python 3.9.6 64-bit ('torch_env': conda)"
  },
  "language_info": {
   "codemirror_mode": {
    "name": "ipython",
    "version": 2
   },
   "file_extension": ".py",
   "mimetype": "text/x-python",
   "name": "python",
   "nbconvert_exporter": "python",
   "pygments_lexer": "ipython2",
   "version": "2.7.6"
  }
 },
 "nbformat": 4,
 "nbformat_minor": 0
}